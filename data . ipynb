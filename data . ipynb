#github wasn't loading .ipynb file so I just pasted my code not as a file

import seaborn as sns
import matplotlib.pyplot as plt 
import os 
import pandas as pd 
import numpy as np
from sklearn.preprocessing import LabelEncoder
from sklearn.cluster import KMeans

plt.rc('font', size=10)

os.listdir(".")
filename='https://raw.githubusercontent.com/valtari51/csc324/main/exam_results.csv'
#filename = "exam_results.csv"
score_df = pd.read_csv(filename)
score_df.head()

score_df.rename(columns={"race/ethnicity":"ethnicity","parental level of education":"parent_education"
                    ,"math score":"math","reading score":"reading","writing score":"writing",
                    "test preparation course":"pre"},inplace=True)
score_df.head()

score_df.dtypes

%matplotlib inline
plt.style.use("seaborn-colorblind")

#gender graphs

score_df['gender'].unique
mScores= score_df.groupby('gender')['math']
rScores= score_df.groupby('gender')['reading']
wScores= score_df.groupby('gender')['writing']


mAvg=mScores.mean().sort_values(ascending=True)[:10]
mAvg.plot(kind='bar',color='c')
plt.title("Average Math Scores")
plt.xlabel("Gender")
plt.ylabel("Scores")
plt.show()
rAvg=rScores.mean().sort_values(ascending=True)[:10]
rAvg.plot(kind='bar',color='m')
plt.title("Average Reading Scores")
plt.xlabel("Gender")
plt.ylabel("Scores")
plt.show()
wAvg=rScores.mean().sort_values(ascending=True)[:10]
wAvg.plot(kind='bar',color='r')
plt.title("Average Writing Scores")
plt.xlabel("Gender")
plt.ylabel("Scores")
plt.show()

#lunch/pre graphs

mLunch= score_df.groupby('lunch')['math']
mPre= score_df.groupby('pre')['math']
rLunch= score_df.groupby('lunch')['reading']
rPre= score_df.groupby('pre')['reading']
wLunch = score_df.groupby('lunch')['writing']
wPre= score_df.groupby('pre')['writing']
mLAvg=mLunch.mean().sort_values(ascending=True)[:10]
rLAvg=rLunch.mean().sort_values(ascending=True)[:10]
wLAvg=wLunch.mean().sort_values(ascending=True)[:10]
mPAvg=mPre.mean().sort_values(ascending=True)[:10]
rPAvg=rPre.mean().sort_values(ascending=True)[:10]
wPAvg=wPre.mean().sort_values(ascending=True)[:10]
lData=(mLAvg,rLAvg,wLAvg)
pData=(mPAvg,rPAvg,wPAvg)
N=4
ind=np.arange(N) 
width=0.25
sns.set_style('darkgrid')
sns.set_palette('dark')
colors = ['r', 'm', 'c']
plt.title("Average Lunch Scores")
plt.xlabel("Subjects")
plt.ylabel("Scores")
xvalues=['Math','Math','Reading', 'Writing']
plt.xticks(ind+width, xvalues)
lPlot=plt.boxplot(lData)
for patch, color in zip(lPlot['boxes'], colors):
    patch.set_color(color)
plt.show(lPlot)
plt.title("Average Pre Scores")
plt.xlabel("Subjects")
plt.ylabel("Scores")
xvalues=['Math','Math','Reading', 'Writing']
plt.xticks(ind+width, xvalues)
prePlot=plt.boxplot(pData)
for patch, color in zip(prePlot['boxes'], colors):
    patch.set_color(color)

plt.show(prePlot)
